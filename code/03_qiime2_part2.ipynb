{
 "cells": [
  {
   "cell_type": "markdown",
   "metadata": {},
   "source": [
    "# Processing marker-gene data in QIIME2, part2\n",
    "\n",
    "**Environment:** qiime2-2021.4"
   ]
  },
  {
   "cell_type": "markdown",
   "metadata": {},
   "source": [
    "## How to use this notebook:\n",
    "1. Activate the `qiime2-2021.4` conda environment.\n",
    "    ```\n",
    "   source $HOME/miniconda3/bin/activate # use the path in your local machine to activate miniconda\n",
    "   conda activate qiime2-2021.4 # activate qiime2 conda environment\n",
    "    ```\n",
    "    \n",
    "2. Launch Jupyter notebook:\n",
    "    ```\n",
    "   jupyter notebook\n",
    "    ```  "
   ]
  },
  {
   "cell_type": "code",
   "execution_count": null,
   "metadata": {},
   "outputs": [],
   "source": [
    "## Hide excessive warnings (optional):\n",
    "import warnings\n",
    "warnings.filterwarnings('ignore')"
   ]
  },
  {
   "cell_type": "code",
   "execution_count": null,
   "metadata": {},
   "outputs": [],
   "source": [
    "## change working directory to the project root directory\n",
    "%cd .."
   ]
  },
  {
   "cell_type": "markdown",
   "metadata": {},
   "source": [
    "##  Import and visualize the filtered feature table"
   ]
  },
  {
   "cell_type": "code",
   "execution_count": null,
   "metadata": {},
   "outputs": [],
   "source": [
    "# Import table\n",
    "!qiime tools import \\\n",
    "  --input-path data/intermediate/filtering/table_merged_filtered.biom \\\n",
    "  --type 'FeatureTable[Frequency]' \\\n",
    "  --input-format BIOMV100Format \\\n",
    "  --output-path data/intermediate/qiime2/table_merged_filtered.qza\n",
    "\n",
    "# Feature table summary \n",
    "!qiime feature-table summarize \\\n",
    "  --i-table data/intermediate/qiime2/table_merged_filtered.qza \\\n",
    "  --m-sample-metadata-file data/metadata.tsv \\\n",
    "  --o-visualization data/intermediate/qiime2/table_merged_filtered.qzv \n",
    "\n",
    "# Filtered taxonomic barplot \n",
    "!qiime taxa barplot \\\n",
    "  --i-table data/intermediate/qiime2/table_merged_filtered.qza \\\n",
    "  --i-taxonomy data/intermediate/qiime2/taxonomy_silva132.qza \\\n",
    "  --m-metadata-file data/metadata.tsv \\\n",
    "  --o-visualization data/intermediate/qiime2/taxa_bar_plots_filtered.qzv"
   ]
  },
  {
   "cell_type": "markdown",
   "metadata": {},
   "source": [
    "##  Phylogeny "
   ]
  },
  {
   "cell_type": "markdown",
   "metadata": {},
   "source": [
    "###  Filter representative sequences based on the filtered feature table"
   ]
  },
  {
   "cell_type": "code",
   "execution_count": null,
   "metadata": {},
   "outputs": [],
   "source": [
    "!qiime feature-table filter-seqs \\\n",
    "  --i-data data/intermediate/qiime2/rep_seqs_merged.qza \\\n",
    "  --i-table data/intermediate/qiime2/table_merged_filtered.qza \\\n",
    "  --p-no-exclude-ids \\\n",
    "  --o-filtered-data data/intermediate/qiime2/rep_seqs_merged_filtered.qza\n",
    "\n",
    "!qiime feature-table tabulate-seqs \\\n",
    "  --i-data data/intermediate/qiime2/rep_seqs_merged_filtered.qza \\\n",
    "  --o-visualization data/intermediate/qiime2/rep_seqs_merged_filtered.qzv"
   ]
  },
  {
   "cell_type": "markdown",
   "metadata": {},
   "source": [
    "###  Reference-based fragment insertion with SEPP"
   ]
  },
  {
   "cell_type": "code",
   "execution_count": null,
   "metadata": {},
   "outputs": [],
   "source": [
    "%%time\n",
    "!qiime fragment-insertion sepp \\\n",
    "  --i-representative-sequences data/intermediate/qiime2/rep_seqs_merged_filtered.qza \\\n",
    "  --i-reference-database data/reference/sepp-refs-silva-128.qza \\\n",
    "  --o-tree data/intermediate/qiime2/insertion_tree.qza \\\n",
    "  --o-placements data/intermediate/qiime2/tree_placements.qza \\\n",
    "  --p-threads 16 \\\n",
    "  --p-debug"
   ]
  },
  {
   "cell_type": "markdown",
   "metadata": {},
   "source": [
    "### Filter uninserted representative sequences from the feature table  "
   ]
  },
  {
   "cell_type": "code",
   "execution_count": null,
   "metadata": {},
   "outputs": [],
   "source": [
    "!qiime fragment-insertion filter-features \\\n",
    "  --i-table data/intermediate/qiime2/table_merged_filtered.qza \\\n",
    "  --i-tree data/intermediate/qiime2/insertion_tree.qza \\\n",
    "  --o-filtered-table data/intermediate/qiime2/table_merged_filtered_sepp_inserted.qza \\\n",
    "  --o-removed-table data/intermediate/qiime2/table_merged_filtered_sepp_uninserted.qza \\\n",
    "  --verbose"
   ]
  },
  {
   "cell_type": "markdown",
   "metadata": {},
   "source": [
    "### Feature table summary"
   ]
  },
  {
   "cell_type": "code",
   "execution_count": null,
   "metadata": {},
   "outputs": [],
   "source": [
    "!qiime feature-table summarize \\\n",
    "  --i-table data/intermediate/qiime2/table_merged_filtered_sepp_inserted.qza \\\n",
    "  --m-sample-metadata-file data/metadata.tsv \\\n",
    "  --o-visualization data/intermediate/qiime2/table_merged_filtered_sepp_inserted.qzv \n",
    "\n",
    "!qiime feature-table summarize \\\n",
    "  --i-table data/intermediate/qiime2/table_merged_filtered_sepp_uninserted.qza \\\n",
    "  --m-sample-metadata-file data/metadata.tsv \\\n",
    "  --o-visualization data/intermediate/qiime2/table_merged_filtered_sepp_uninserted.qzv "
   ]
  },
  {
   "cell_type": "markdown",
   "metadata": {},
   "source": [
    "## Alpha and beta diversity analysis: tilapia"
   ]
  },
  {
   "cell_type": "markdown",
   "metadata": {},
   "source": [
    "### Filter samples"
   ]
  },
  {
   "cell_type": "code",
   "execution_count": null,
   "metadata": {},
   "outputs": [],
   "source": [
    "!qiime feature-table filter-samples \\\n",
    "  --i-table data/intermediate/qiime2/table_merged_filtered_sepp_inserted.qza \\\n",
    "  --m-metadata-file data/metadata.tsv \\\n",
    "  --p-where \"[Species]='Nile tilapia'\" \\\n",
    "  --o-filtered-table data/intermediate/qiime2/table_merged_filtered_sepp_inserted_tilapia.qza"
   ]
  },
  {
   "cell_type": "markdown",
   "metadata": {},
   "source": [
    "### Rarefaction analysis "
   ]
  },
  {
   "cell_type": "code",
   "execution_count": null,
   "metadata": {},
   "outputs": [],
   "source": [
    "!qiime diversity alpha-rarefaction \\\n",
    "  --i-table data/intermediate/qiime2/table_merged_filtered_sepp_inserted_tilapia.qza \\\n",
    "  --i-phylogeny data/intermediate/qiime2/insertion_tree.qza \\\n",
    "  --p-max-depth 133398 \\\n",
    "  --p-steps 10 \\\n",
    "  --m-metadata-file data/metadata.tsv \\\n",
    "  --o-visualization data/intermediate/qiime2/alpha_rarefaction_tilapia.qzv"
   ]
  },
  {
   "cell_type": "markdown",
   "metadata": {},
   "source": [
    "### Generate core metric results"
   ]
  },
  {
   "cell_type": "code",
   "execution_count": null,
   "metadata": {},
   "outputs": [],
   "source": [
    "!qiime diversity core-metrics-phylogenetic \\\n",
    "  --i-phylogeny data/intermediate/qiime2/insertion_tree.qza \\\n",
    "  --i-table data/intermediate/qiime2/table_merged_filtered_sepp_inserted_tilapia.qza \\\n",
    "  --m-metadata-file data/metadata.tsv \\\n",
    "  --p-sampling-depth 133398 \\\n",
    "  --output-dir data/intermediate/qiime2/core_metrics_results_tilapia"
   ]
  },
  {
   "cell_type": "markdown",
   "metadata": {},
   "source": [
    "### Compare beta-diversity using robust Aitchison PCA "
   ]
  },
  {
   "cell_type": "code",
   "execution_count": null,
   "metadata": {},
   "outputs": [],
   "source": [
    "!qiime deicode rpca \\\n",
    "  --i-table data/intermediate/qiime2/table_merged_filtered_sepp_inserted_tilapia.qza \\\n",
    "  --p-min-feature-count 10 \\\n",
    "  --p-min-sample-count 1000 \\\n",
    "  --output-dir data/intermediate/qiime2/rpca_tilapia\n",
    "\n",
    "!qiime emperor biplot \\\n",
    "  --i-biplot data/intermediate/qiime2/rpca_tilapia/biplot.qza \\\n",
    "  --m-sample-metadata-file data/metadata.tsv \\\n",
    "  --m-feature-metadata-file data/intermediate/qiime2/taxonomy_silva132.qza \\\n",
    "  --o-visualization data/intermediate/qiime2/rpca_tilapia/biplot.qzv \\\n",
    "  --p-number-of-features 8"
   ]
  },
  {
   "cell_type": "markdown",
   "metadata": {},
   "source": [
    "## Alpha and beta diversity analysis: perch"
   ]
  },
  {
   "cell_type": "markdown",
   "metadata": {},
   "source": [
    "### Filter samples"
   ]
  },
  {
   "cell_type": "code",
   "execution_count": null,
   "metadata": {},
   "outputs": [],
   "source": [
    "!qiime feature-table filter-samples \\\n",
    "  --i-table data/intermediate/qiime2/table_merged_filtered_sepp_inserted.qza \\\n",
    "  --m-metadata-file data/metadata.tsv \\\n",
    "  --p-where \"[Population]='Wild'\" \\\n",
    "  --o-filtered-table data/intermediate/qiime2/table_merged_filtered_sepp_inserted_perch.qza"
   ]
  },
  {
   "cell_type": "markdown",
   "metadata": {},
   "source": [
    "### Rarefaction analysis "
   ]
  },
  {
   "cell_type": "code",
   "execution_count": null,
   "metadata": {},
   "outputs": [],
   "source": [
    "!qiime diversity alpha-rarefaction \\\n",
    "  --i-table data/intermediate/qiime2/table_merged_filtered_sepp_inserted_perch.qza \\\n",
    "  --i-phylogeny data/intermediate/qiime2/insertion_tree.qza \\\n",
    "  --p-max-depth 250788 \\\n",
    "  --p-steps 10 \\\n",
    "  --m-metadata-file data/metadata.tsv \\\n",
    "  --o-visualization data/intermediate/qiime2/alpha_rarefaction_perch.qzv"
   ]
  },
  {
   "cell_type": "markdown",
   "metadata": {},
   "source": [
    "### Generate core metric results"
   ]
  },
  {
   "cell_type": "code",
   "execution_count": null,
   "metadata": {},
   "outputs": [],
   "source": [
    "!qiime diversity core-metrics-phylogenetic \\\n",
    "  --i-phylogeny data/intermediate/qiime2/insertion_tree.qza \\\n",
    "  --i-table data/intermediate/qiime2/table_merged_filtered_sepp_inserted_perch.qza \\\n",
    "  --m-metadata-file data/metadata.tsv \\\n",
    "  --p-sampling-depth 250788 \\\n",
    "  --output-dir data/intermediate/qiime2/core_metrics_results_perch"
   ]
  },
  {
   "cell_type": "markdown",
   "metadata": {},
   "source": [
    "### Compare beta-diversity using robust Aitchison PCA "
   ]
  },
  {
   "cell_type": "code",
   "execution_count": null,
   "metadata": {},
   "outputs": [],
   "source": [
    "!qiime deicode rpca \\\n",
    "  --i-table data/intermediate/qiime2/table_merged_filtered_sepp_inserted_perch.qza \\\n",
    "  --p-min-feature-count 10 \\\n",
    "  --p-min-sample-count 1000 \\\n",
    "  --output-dir data/intermediate/qiime2/rpca_perch\n",
    "\n",
    "!qiime emperor biplot \\\n",
    "  --i-biplot data/intermediate/qiime2/rpca_perch/biplot.qza \\\n",
    "  --m-sample-metadata-file data/metadata.tsv \\\n",
    "  --m-feature-metadata-file data/intermediate/qiime2/taxonomy_silva132.qza \\\n",
    "  --o-visualization data/intermediate/qiime2/rpca_perch/biplot.qzv \\\n",
    "  --p-number-of-features 8"
   ]
  }
 ],
 "metadata": {
  "kernelspec": {
   "display_name": "Python 3",
   "language": "python",
   "name": "python3"
  },
  "language_info": {
   "codemirror_mode": {
    "name": "ipython",
    "version": 3
   },
   "file_extension": ".py",
   "mimetype": "text/x-python",
   "name": "python",
   "nbconvert_exporter": "python",
   "pygments_lexer": "ipython3",
   "version": "3.8.8"
  }
 },
 "nbformat": 4,
 "nbformat_minor": 4
}
