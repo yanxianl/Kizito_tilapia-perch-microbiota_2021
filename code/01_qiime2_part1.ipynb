{
 "cells": [
  {
   "cell_type": "markdown",
   "metadata": {},
   "source": [
    "# Processing marker-gene data in qiime2, part1\n",
    "\n",
    "**Environment:** qiime2-2021.4"
   ]
  },
  {
   "cell_type": "markdown",
   "metadata": {},
   "source": [
    "## How to use this notebook:\n",
    "1. Activate the `qiime2-2021.4` conda environment.\n",
    "    ```\n",
    "   source $HOME/miniconda3/bin/activate # use the path in your local machine to activate miniconda\n",
    "   conda activate qiime2-2021.4 # activate !qiime2 conda environment\n",
    "    ```\n",
    "    \n",
    "2. Launch Jupyter notebook:\n",
    "    ```\n",
    "   jupyter notebook\n",
    "    ```  "
   ]
  },
  {
   "cell_type": "code",
   "execution_count": null,
   "metadata": {},
   "outputs": [],
   "source": [
    "## Hide excessive warnings (optional):\n",
    "import warnings\n",
    "warnings.filterwarnings('ignore')"
   ]
  },
  {
   "cell_type": "code",
   "execution_count": null,
   "metadata": {},
   "outputs": [],
   "source": [
    "## change working directory to the project root directory\n",
    "%cd .."
   ]
  },
  {
   "cell_type": "markdown",
   "metadata": {},
   "source": [
    "##  Import data"
   ]
  },
  {
   "cell_type": "markdown",
   "metadata": {},
   "source": [
    "###  Run1"
   ]
  },
  {
   "cell_type": "code",
   "execution_count": null,
   "metadata": {
    "scrolled": true
   },
   "outputs": [],
   "source": [
    "# Importing the demultiplexed fastq files\n",
    "!qiime tools import \\\n",
    "  --type 'SampleData[PairedEndSequencesWithQuality]' \\\n",
    "  --input-path data/raw/fastq/run1 \\\n",
    "  --input-format CasavaOneEightSingleLanePerSampleDirFmt \\\n",
    "  --output-path data/intermediate/qiime2/demux_run1.qza\n",
    "\n",
    "# Summarize sequence data and visulaize reads quality\n",
    "!qiime demux summarize \\\n",
    "  --i-data data/intermediate/qiime2/demux_run1.qza \\\n",
    "  --o-visualization data/intermediate/qiime2/demux_run1.qzv"
   ]
  },
  {
   "cell_type": "markdown",
   "metadata": {},
   "source": [
    "###  Run2"
   ]
  },
  {
   "cell_type": "code",
   "execution_count": null,
   "metadata": {},
   "outputs": [],
   "source": [
    "# Importing the demultiplexed fastq files\n",
    "!qiime tools import \\\n",
    "  --type 'SampleData[PairedEndSequencesWithQuality]' \\\n",
    "  --input-path data/raw/fastq/run2 \\\n",
    "  --input-format CasavaOneEightSingleLanePerSampleDirFmt \\\n",
    "  --output-path data/intermediate/qiime2/demux_run2.qza\n",
    "\n",
    "# Summarize sequence data and visulaize reads quality\n",
    "!qiime demux summarize \\\n",
    "  --i-data data/intermediate/qiime2/demux_run2.qza \\\n",
    "  --o-visualization data/intermediate/qiime2/demux_run2.qzv"
   ]
  },
  {
   "cell_type": "markdown",
   "metadata": {},
   "source": [
    "## Sequence Denoising  wtih DADA2 "
   ]
  },
  {
   "cell_type": "markdown",
   "metadata": {},
   "source": [
    "###  Run1"
   ]
  },
  {
   "cell_type": "code",
   "execution_count": null,
   "metadata": {},
   "outputs": [],
   "source": [
    "# sequence denoising\n",
    "!qiime dada2 denoise-paired \\\n",
    "  --i-demultiplexed-seqs data/intermediate/qiime2/demux_run1.qza \\\n",
    "  --p-trim-left-f 17 \\\n",
    "  --p-trim-left-r 21 \\\n",
    "  --p-trunc-len-f 287 \\\n",
    "  --p-trunc-len-r 241 \\\n",
    "  --p-min-overlap 20 \\\n",
    "  --p-pooling-method 'pseudo' \\\n",
    "  --p-chimera-method 'pooled' \\\n",
    "  --p-n-threads 16 \\\n",
    "  --o-table data/intermediate/qiime2/table_run1.qza \\\n",
    "  --o-representative-sequences data/intermediate/qiime2/rep_seqs_run1.qza \\\n",
    "  --o-denoising-stats data/intermediate/qiime2/stats_run1.qza \\\n",
    "  --verbose\n",
    "\n",
    "# sequence denoising summary\n",
    "!qiime metadata tabulate \\\n",
    "  --m-input-file data/intermediate/qiime2/stats_run1.qza \\\n",
    "  --o-visualization data/intermediate/qiime2/stats_run1.qzv\n",
    "\n",
    "# feature table summary\n",
    "!qiime feature-table summarize \\\n",
    "  --i-table data/intermediate/qiime2/table_run1.qza \\\n",
    "  --m-sample-metadata-file data/metadata.tsv \\\n",
    "  --o-visualization data/intermediate/qiime2/table_run1.qzv "
   ]
  },
  {
   "cell_type": "markdown",
   "metadata": {},
   "source": [
    "###  Run2"
   ]
  },
  {
   "cell_type": "code",
   "execution_count": null,
   "metadata": {
    "scrolled": true
   },
   "outputs": [],
   "source": [
    "# sequence denoising\n",
    "!qiime dada2 denoise-paired \\\n",
    "  --i-demultiplexed-seqs data/intermediate/qiime2/demux_run2.qza \\\n",
    "  --p-trim-left-f 17 \\\n",
    "  --p-trim-left-r 21 \\\n",
    "  --p-trunc-len-f 287 \\\n",
    "  --p-trunc-len-r 241 \\\n",
    "  --p-min-overlap 20 \\\n",
    "  --p-pooling-method 'pseudo' \\\n",
    "  --p-chimera-method 'pooled' \\\n",
    "  --p-n-threads 16 \\\n",
    "  --o-table data/intermediate/qiime2/table_run2.qza \\\n",
    "  --o-representative-sequences data/intermediate/qiime2/rep_seqs_run2.qza \\\n",
    "  --o-denoising-stats data/intermediate/qiime2/stats_run2.qza \\\n",
    "  --verbose\n",
    "\n",
    "# sequence denoising summary\n",
    "!qiime metadata tabulate \\\n",
    "  --m-input-file data/intermediate/qiime2/stats_run2.qza \\\n",
    "  --o-visualization data/intermediate/qiime2/stats_run2.qzv\n",
    "\n",
    "# feature table summary\n",
    "!qiime feature-table summarize \\\n",
    "  --i-table data/intermediate/qiime2/table_run2.qza \\\n",
    "  --m-sample-metadata-file data/metadata.tsv \\\n",
    "  --o-visualization data/intermediate/qiime2/table_run2.qzv "
   ]
  },
  {
   "cell_type": "markdown",
   "metadata": {},
   "source": [
    "## Compare results between sequencing runs"
   ]
  },
  {
   "cell_type": "markdown",
   "metadata": {},
   "source": [
    "### Compute core metrics results without phylogeny"
   ]
  },
  {
   "cell_type": "code",
   "execution_count": null,
   "metadata": {},
   "outputs": [],
   "source": [
    "# run1\n",
    "!qiime diversity core-metrics \\\n",
    "  --i-table data/intermediate/qiime2/table_run1.qza \\\n",
    "  --m-metadata-file data/metadata.tsv \\\n",
    "  --p-sampling-depth 64843 \\\n",
    "  --output-dir data/intermediate/qiime2/core_metrics_results_run1\n",
    "\n",
    "# run2\n",
    "!qiime diversity core-metrics \\\n",
    "  --i-table data/intermediate/qiime2/table_run2.qza \\\n",
    "  --m-metadata-file data/metadata.tsv \\\n",
    "  --p-sampling-depth 71094 \\\n",
    "  --output-dir data/intermediate/qiime2/core_metrics_results_run2"
   ]
  },
  {
   "cell_type": "markdown",
   "metadata": {},
   "source": [
    "### Procrustes analysis"
   ]
  },
  {
   "cell_type": "code",
   "execution_count": null,
   "metadata": {},
   "outputs": [],
   "source": [
    "# Procrustes analysis\n",
    "!qiime diversity procrustes-analysis \\\n",
    "  --i-reference data/intermediate/qiime2/core_metrics_results_run1/bray_curtis_pcoa_results.qza \\\n",
    "  --i-other data/intermediate/qiime2/core_metrics_results_run2/bray_curtis_pcoa_results.qza \\\n",
    "  --output-dir data/intermediate/qiime2/compare_runs \n",
    "\n",
    "# Procrustes plot\n",
    "!qiime emperor procrustes-plot \\\n",
    "  --i-reference-pcoa data/intermediate/qiime2/core_metrics_results_run1/bray_curtis_pcoa_results.qza \\\n",
    "  --i-other-pcoa data/intermediate/qiime2/core_metrics_results_run2/bray_curtis_pcoa_results.qza \\\n",
    "  --i-m2-stats data/intermediate/qiime2/compare_runs/disparity_results.qza \\\n",
    "  --m-metadata-file data/metadata.tsv \\\n",
    "  --o-visualization data/intermediate/qiime2/compare_runs/procrustes_plot.qzv"
   ]
  },
  {
   "cell_type": "markdown",
   "metadata": {},
   "source": [
    "### Mantel test"
   ]
  },
  {
   "cell_type": "code",
   "execution_count": null,
   "metadata": {},
   "outputs": [],
   "source": [
    "!qiime diversity mantel \\\n",
    "  --i-dm1 data/intermediate/qiime2/core_metrics_results_run1/bray_curtis_distance_matrix.qza \\\n",
    "  --i-dm2 data/intermediate/qiime2/core_metrics_results_run2/bray_curtis_distance_matrix.qza \\\n",
    "  --p-method pearson \\\n",
    "  --p-label1 run1_bray_curtis_distance \\\n",
    "  --p-label2 run2_bray_curtis_distance \\\n",
    "  --o-visualization data/intermediate/qiime2/compare_runs/mantel_test.qzv"
   ]
  },
  {
   "cell_type": "markdown",
   "metadata": {},
   "source": [
    "## Merge data"
   ]
  },
  {
   "cell_type": "code",
   "execution_count": null,
   "metadata": {},
   "outputs": [],
   "source": [
    "# feature table\n",
    "!qiime feature-table merge \\\n",
    "  --i-tables data/intermediate/qiime2/table_run1.qza \\\n",
    "  --i-tables data/intermediate/qiime2/table_run2.qza \\\n",
    "  --p-overlap-method sum \\\n",
    "  --o-merged-table data/intermediate/qiime2/table_merged.qza\n",
    "\n",
    "# representative sequences\n",
    "!qiime feature-table merge-seqs \\\n",
    "  --i-data data/intermediate/qiime2/rep_seqs_run1.qza \\\n",
    "  --i-data data/intermediate/qiime2/rep_seqs_run2.qza \\\n",
    "  --o-merged-data data/intermediate/qiime2/rep_seqs_merged.qza"
   ]
  },
  {
   "cell_type": "markdown",
   "metadata": {},
   "source": [
    "## Taxonomic  assignment"
   ]
  },
  {
   "cell_type": "markdown",
   "metadata": {},
   "source": [
    "### Import reference sequence and taxonomy"
   ]
  },
  {
   "cell_type": "code",
   "execution_count": null,
   "metadata": {},
   "outputs": [],
   "source": [
    "!qiime tools import \\\n",
    "  --type 'FeatureData[Sequence]' \\\n",
    "  --input-path data/reference/silva_132_99_16S.fna \\\n",
    "  --output-path data/intermediate/qiime2/99_otus_silva132.qza\n",
    "\n",
    "!qiime tools import \\\n",
    "  --type 'FeatureData[Taxonomy]' \\\n",
    "  --input-format HeaderlessTSVTaxonomyFormat \\\n",
    "  --input-path data/reference/silva_132_consensus_taxonomy_l7.txt \\\n",
    "  --output-path data/intermediate/qiime2/ref_taxonomy_silva132.qza"
   ]
  },
  {
   "cell_type": "markdown",
   "metadata": {},
   "source": [
    "### Extract V3-4 reference sequences"
   ]
  },
  {
   "cell_type": "code",
   "execution_count": null,
   "metadata": {},
   "outputs": [],
   "source": [
    "%%time\n",
    "!qiime feature-classifier extract-reads \\\n",
    "  --i-sequences data/intermediate/qiime2/99_otus_silva132.qza \\\n",
    "  --p-f-primer CCTACGGGNGGCWGCAG \\\n",
    "  --p-r-primer GACTACHVGGGTATCTAATCC \\\n",
    "  --p-n-jobs 16 \\\n",
    "  --o-reads data/intermediate/qiime2/ref_seqs_silva132.qza"
   ]
  },
  {
   "cell_type": "markdown",
   "metadata": {},
   "source": [
    "### Train the feature classifier"
   ]
  },
  {
   "cell_type": "code",
   "execution_count": null,
   "metadata": {},
   "outputs": [],
   "source": [
    "%%time\n",
    "!qiime feature-classifier fit-classifier-naive-bayes \\\n",
    "  --i-reference-reads data/intermediate/qiime2/ref_seqs_silva132.qza \\\n",
    "  --i-reference-taxonomy data/intermediate/qiime2/ref_taxonomy_silva132.qza \\\n",
    "  --o-classifier data/intermediate/qiime2/silva132_99otu_v3_v4_classifier.qza"
   ]
  },
  {
   "cell_type": "markdown",
   "metadata": {},
   "source": [
    "### Assign taxonomy"
   ]
  },
  {
   "cell_type": "code",
   "execution_count": null,
   "metadata": {},
   "outputs": [],
   "source": [
    "%%time\n",
    "!qiime feature-classifier classify-sklearn \\\n",
    "  --i-classifier data/intermediate/qiime2/silva132_99otu_v3_v4_classifier.qza \\\n",
    "  --i-reads data/intermediate/qiime2/rep_seqs_merged.qza \\\n",
    "  --p-n-jobs 16 \\\n",
    "  --o-classification data/intermediate/qiime2/taxonomy_silva132.qza"
   ]
  },
  {
   "cell_type": "markdown",
   "metadata": {},
   "source": [
    "### Visualize taxonomy "
   ]
  },
  {
   "cell_type": "code",
   "execution_count": null,
   "metadata": {},
   "outputs": [],
   "source": [
    "# taxonomy file\n",
    "!qiime metadata tabulate \\\n",
    "  --m-input-file data/intermediate/qiime2/taxonomy_silva132.qza \\\n",
    "  --o-visualization data/intermediate/qiime2/taxonomy_silva132.qzv\n",
    "\n",
    "# taxonomic barplot\n",
    "!qiime taxa barplot \\\n",
    "  --i-table data/intermediate/qiime2/table_merged.qza \\\n",
    "  --i-taxonomy data/intermediate/qiime2/taxonomy_silva132.qza \\\n",
    "  --m-metadata-file data/metadata.tsv \\\n",
    "  --o-visualization data/intermediate/qiime2/taxa_bar_plots.qzv"
   ]
  }
 ],
 "metadata": {
  "kernelspec": {
   "display_name": "Python 3",
   "language": "python",
   "name": "python3"
  },
  "language_info": {
   "codemirror_mode": {
    "name": "ipython",
    "version": 3
   },
   "file_extension": ".py",
   "mimetype": "text/x-python",
   "name": "python",
   "nbconvert_exporter": "python",
   "pygments_lexer": "ipython3",
   "version": "3.6.4"
  }
 },
 "nbformat": 4,
 "nbformat_minor": 4
}
